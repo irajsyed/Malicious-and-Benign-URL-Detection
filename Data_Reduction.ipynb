{
  "nbformat": 4,
  "nbformat_minor": 0,
  "metadata": {
    "colab": {
      "name": "Data Reduction",
      "provenance": [],
      "collapsed_sections": []
    },
    "kernelspec": {
      "display_name": "Python 3",
      "name": "python3"
    }
  },
  "cells": [
    {
      "cell_type": "markdown",
      "metadata": {
        "id": "LSV0QuFAxUgR"
      },
      "source": [
        "#Randomly selecting samples of 5000 URLs from Benign.csv\n"
      ]
    },
    {
      "cell_type": "code",
      "metadata": {
        "id": "rG5w28RitNGO"
      },
      "source": [
        "import pandas as pd"
      ],
      "execution_count": null,
      "outputs": []
    },
    {
      "cell_type": "code",
      "metadata": {
        "id": "WszICPyCtRo8"
      },
      "source": [
        "benign = pd.read_csv('Benign.csv')"
      ],
      "execution_count": null,
      "outputs": []
    },
    {
      "cell_type": "code",
      "metadata": {
        "id": "46S9cmqmta-V",
        "colab": {
          "base_uri": "https://localhost:8080/"
        },
        "outputId": "a5a93ca7-1748-40f4-8e51-5432613a86d2"
      },
      "source": [
        "benign.shape"
      ],
      "execution_count": null,
      "outputs": [
        {
          "output_type": "execute_result",
          "data": {
            "text/plain": [
              "(35378, 1)"
            ]
          },
          "metadata": {
            "tags": []
          },
          "execution_count": 3
        }
      ]
    },
    {
      "cell_type": "code",
      "metadata": {
        "id": "JDTwudmeuum3",
        "colab": {
          "base_uri": "https://localhost:8080/",
          "height": 204
        },
        "outputId": "e3453069-b8aa-4258-e394-0639b1cf7ea7"
      },
      "source": [
        "benign.head()"
      ],
      "execution_count": null,
      "outputs": [
        {
          "output_type": "execute_result",
          "data": {
            "text/html": [
              "<div>\n",
              "<style scoped>\n",
              "    .dataframe tbody tr th:only-of-type {\n",
              "        vertical-align: middle;\n",
              "    }\n",
              "\n",
              "    .dataframe tbody tr th {\n",
              "        vertical-align: top;\n",
              "    }\n",
              "\n",
              "    .dataframe thead th {\n",
              "        text-align: right;\n",
              "    }\n",
              "</style>\n",
              "<table border=\"1\" class=\"dataframe\">\n",
              "  <thead>\n",
              "    <tr style=\"text-align: right;\">\n",
              "      <th></th>\n",
              "      <th>URLs</th>\n",
              "    </tr>\n",
              "  </thead>\n",
              "  <tbody>\n",
              "    <tr>\n",
              "      <th>0</th>\n",
              "      <td>http://1337x.to/torrent/1048648/American-Snipe...</td>\n",
              "    </tr>\n",
              "    <tr>\n",
              "      <th>1</th>\n",
              "      <td>http://1337x.to/torrent/1110018/Blackhat-2015-...</td>\n",
              "    </tr>\n",
              "    <tr>\n",
              "      <th>2</th>\n",
              "      <td>http://1337x.to/torrent/1122940/Blackhat-2015-...</td>\n",
              "    </tr>\n",
              "    <tr>\n",
              "      <th>3</th>\n",
              "      <td>http://1337x.to/torrent/1124395/Fast-and-Furio...</td>\n",
              "    </tr>\n",
              "    <tr>\n",
              "      <th>4</th>\n",
              "      <td>http://1337x.to/torrent/1145504/Avengers-Age-o...</td>\n",
              "    </tr>\n",
              "  </tbody>\n",
              "</table>\n",
              "</div>"
            ],
            "text/plain": [
              "                                                URLs\n",
              "0  http://1337x.to/torrent/1048648/American-Snipe...\n",
              "1  http://1337x.to/torrent/1110018/Blackhat-2015-...\n",
              "2  http://1337x.to/torrent/1122940/Blackhat-2015-...\n",
              "3  http://1337x.to/torrent/1124395/Fast-and-Furio...\n",
              "4  http://1337x.to/torrent/1145504/Avengers-Age-o..."
            ]
          },
          "metadata": {
            "tags": []
          },
          "execution_count": 4
        }
      ]
    },
    {
      "cell_type": "code",
      "metadata": {
        "id": "ktBdEbw8w85e"
      },
      "source": [
        "benign = benign.sample(n=5000)"
      ],
      "execution_count": null,
      "outputs": []
    },
    {
      "cell_type": "code",
      "metadata": {
        "id": "3irRjq-FxD5E",
        "colab": {
          "base_uri": "https://localhost:8080/"
        },
        "outputId": "c8e8735b-5d32-4cad-f323-32b9b464cc9d"
      },
      "source": [
        "benign.shape"
      ],
      "execution_count": null,
      "outputs": [
        {
          "output_type": "execute_result",
          "data": {
            "text/plain": [
              "(5000, 1)"
            ]
          },
          "metadata": {
            "tags": []
          },
          "execution_count": 6
        }
      ]
    },
    {
      "cell_type": "code",
      "metadata": {
        "id": "yNQZUFlNxG7j"
      },
      "source": [
        "benign.to_csv('benign_data.csv',index=False)"
      ],
      "execution_count": null,
      "outputs": []
    },
    {
      "cell_type": "markdown",
      "metadata": {
        "id": "YqelKLEtx51c"
      },
      "source": [
        "#Randomly selecting samples of 5000 URLs from Malicious.csv"
      ]
    },
    {
      "cell_type": "code",
      "metadata": {
        "id": "CwxxiKT7yEOP"
      },
      "source": [
        "malicious = pd.read_csv('Malicious.csv')"
      ],
      "execution_count": null,
      "outputs": []
    },
    {
      "cell_type": "code",
      "metadata": {
        "id": "l8b_Ql3HyK79",
        "colab": {
          "base_uri": "https://localhost:8080/"
        },
        "outputId": "84b247fb-919a-42ec-ae7b-e17f17ab27c8"
      },
      "source": [
        "malicious.shape"
      ],
      "execution_count": null,
      "outputs": [
        {
          "output_type": "execute_result",
          "data": {
            "text/plain": [
              "(14858, 8)"
            ]
          },
          "metadata": {
            "tags": []
          },
          "execution_count": 9
        }
      ]
    },
    {
      "cell_type": "code",
      "metadata": {
        "id": "J5qojYufyQbT"
      },
      "source": [
        "malicious = malicious['URLs']"
      ],
      "execution_count": null,
      "outputs": []
    },
    {
      "cell_type": "code",
      "metadata": {
        "id": "d81c0WF5yVWp",
        "colab": {
          "base_uri": "https://localhost:8080/"
        },
        "outputId": "5c031d97-8075-4139-fd6d-5e5bf98e9180"
      },
      "source": [
        "malicious.head()"
      ],
      "execution_count": null,
      "outputs": [
        {
          "output_type": "execute_result",
          "data": {
            "text/plain": [
              "0    http://u1047531.cp.regruhosting.ru/acces-inges...\n",
              "1    http://hoysalacreations.com/wp-content/plugins...\n",
              "2    http://www.accsystemprblemhelp.site/checkpoint...\n",
              "3    http://www.accsystemprblemhelp.site/login_atte...\n",
              "4    https://firebasestorage.googleapis.com/v0/b/so...\n",
              "Name: URLs, dtype: object"
            ]
          },
          "metadata": {
            "tags": []
          },
          "execution_count": 11
        }
      ]
    },
    {
      "cell_type": "code",
      "metadata": {
        "id": "t-QHKZv0yexD"
      },
      "source": [
        "malicious = malicious.sample(n=5000)"
      ],
      "execution_count": null,
      "outputs": []
    },
    {
      "cell_type": "code",
      "metadata": {
        "id": "H3Am2-qtynHy",
        "colab": {
          "base_uri": "https://localhost:8080/"
        },
        "outputId": "e1da599c-f3fe-4a1a-fe62-94054cf3ea01"
      },
      "source": [
        "malicious.shape"
      ],
      "execution_count": null,
      "outputs": [
        {
          "output_type": "execute_result",
          "data": {
            "text/plain": [
              "(5000,)"
            ]
          },
          "metadata": {
            "tags": []
          },
          "execution_count": 13
        }
      ]
    },
    {
      "cell_type": "code",
      "metadata": {
        "id": "peDTYi91zRXg"
      },
      "source": [
        "malicious.to_csv('malicious_data.csv'.index=False)"
      ],
      "execution_count": null,
      "outputs": []
    }
  ]
}